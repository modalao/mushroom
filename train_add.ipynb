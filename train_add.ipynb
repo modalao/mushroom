{
 "cells": [
  {
   "cell_type": "code",
   "execution_count": 24,
   "metadata": {},
   "outputs": [
    {
     "name": "stdout",
     "output_type": "stream",
     "text": [
      "The columns in the CSV files are different.\n",
      "Columns only in ./datasets/mushroom.csv: {'ruises'}\n",
      "Columns only in ./datasets/mushrooms_add.csv: {'bruises'}\n",
      "Column 'class' has the same unique values in both files.\n",
      "  ./datasets/mushroom.csv: {'e', 'p'}\n",
      "Column 'cap-shape' has the same unique values in both files.\n",
      "  ./datasets/mushroom.csv: {'b', 's', 'x', 'f', 'c', 'k'}\n",
      "Column 'cap-surface' has the same unique values in both files.\n",
      "  ./datasets/mushroom.csv: {'y', 'g', 's', 'f'}\n",
      "Column 'cap-color' has the same unique values in both files.\n",
      "  ./datasets/mushroom.csv: {'y', 'n', 'u', 'b', 'e', 'p', 'w', 'r', 'g', 'c'}\n",
      "Column 'odor' has the same unique values in both files.\n",
      "  ./datasets/mushroom.csv: {'y', 'n', 's', 'm', 'l', 'p', 'f', 'a', 'c'}\n",
      "Column 'gill-attachment' has the same unique values in both files.\n",
      "  ./datasets/mushroom.csv: {'a', 'f'}\n",
      "Column 'gill-spacing' has the same unique values in both files.\n",
      "  ./datasets/mushroom.csv: {'c', 'w'}\n",
      "Column 'gill-size' has the same unique values in both files.\n",
      "  ./datasets/mushroom.csv: {'n', 'b'}\n",
      "Column 'gill-color' has the same unique values in both files.\n",
      "  ./datasets/mushroom.csv: {'y', 'n', 'u', 'b', 'h', 'e', 'p', 'w', 'r', 'g', 'o', 'k'}\n",
      "Column 'stalk-shape' has the same unique values in both files.\n",
      "  ./datasets/mushroom.csv: {'e', 't'}\n",
      "Column 'stalk-root' has the same unique values in both files.\n",
      "  ./datasets/mushroom.csv: {'?', 'b', 'e', 'r', 'c'}\n",
      "Column 'stalk-surface-above-ring' has the same unique values in both files.\n",
      "  ./datasets/mushroom.csv: {'y', 'k', 's', 'f'}\n",
      "Column 'stalk-surface-below-ring' has the same unique values in both files.\n",
      "  ./datasets/mushroom.csv: {'f', 'y', 's', 'k'}\n",
      "Column 'stalk-color-above-ring' has the same unique values in both files.\n",
      "  ./datasets/mushroom.csv: {'y', 'n', 'b', 'e', 'p', 'w', 'g', 'c', 'o'}\n",
      "Column 'stalk-color-below-ring' has the same unique values in both files.\n",
      "  ./datasets/mushroom.csv: {'y', 'n', 'b', 'e', 'p', 'w', 'g', 'c', 'o'}\n",
      "Column 'veil-type' has the same unique values in both files.\n",
      "  ./datasets/mushroom.csv: {'p'}\n",
      "Column 'veil-color' has the same unique values in both files.\n",
      "  ./datasets/mushroom.csv: {'y', 'n', 'w', 'o'}\n",
      "Column 'ring-number' has the same unique values in both files.\n",
      "  ./datasets/mushroom.csv: {'n', 't', 'o'}\n",
      "Column 'ring-type' has the same unique values in both files.\n",
      "  ./datasets/mushroom.csv: {'n', 'l', 'e', 'p', 'f'}\n",
      "Column 'spore-print-color' has the same unique values in both files.\n",
      "  ./datasets/mushroom.csv: {'u', 'n', 'y', 'b', 'h', 'w', 'r', 'o', 'k'}\n",
      "Column 'population' has the same unique values in both files.\n",
      "  ./datasets/mushroom.csv: {'y', 'n', 's', 'v', 'a', 'c'}\n",
      "Column 'habitat' has the same unique values in both files.\n",
      "  ./datasets/mushroom.csv: {'u', 'd', 'm', 'l', 'p', 'w', 'g'}\n"
     ]
    }
   ],
   "source": [
    "import pandas as pd\n",
    "\n",
    "# 读取第一个 CSV 文件\n",
    "file1 = './datasets/mushroom.csv'\n",
    "df1 = pd.read_csv(file1)\n",
    "\n",
    "# 读取第二个 CSV 文件\n",
    "file2 = './datasets/mushrooms_add.csv'\n",
    "df2 = pd.read_csv(file2)\n",
    "\n",
    "# 获取列名\n",
    "columns1 = df1.columns\n",
    "columns2 = df2.columns\n",
    "\n",
    "# 比较列名\n",
    "if set(columns1) == set(columns2):\n",
    "    print(\"The columns in both CSV files are the same.\")\n",
    "else:\n",
    "    print(\"The columns in the CSV files are different.\")\n",
    "\n",
    "    # 找出不同的列\n",
    "    columns_only_in_file1 = set(columns1) - set(columns2)\n",
    "    columns_only_in_file2 = set(columns2) - set(columns1)\n",
    "\n",
    "    if columns_only_in_file1:\n",
    "        print(f\"Columns only in {file1}: {columns_only_in_file1}\")\n",
    "    if columns_only_in_file2:\n",
    "        print(f\"Columns only in {file2}: {columns_only_in_file2}\")\n",
    "        \n",
    "common_columns = columns1.intersection(columns2)\n",
    "\n",
    "for column in common_columns:\n",
    "        # 获取第一个文件中该列的唯一值集合\n",
    "        unique_values1 = set(df1[column].dropna().unique())\n",
    "        \n",
    "        # 获取第二个文件中该列的唯一值集合\n",
    "        unique_values2 = set(df2[column].dropna().unique())\n",
    "        \n",
    "         # 比较两个文件中该列的唯一值集合是否完全相等\n",
    "        if unique_values1 == unique_values2:\n",
    "            print(f\"Column '{column}' has the same unique values in both files.\")\n",
    "            print(f\"  {file1}: {unique_values1}\")\n",
    "        else:\n",
    "            print(f\"Column '{column}' has different unique values in the files:\")\n",
    "            print(f\"  {file1}: {unique_values1}\")\n",
    "            print(f\"  {file2}: {unique_values2}\")"
   ]
  },
  {
   "cell_type": "code",
   "execution_count": 25,
   "metadata": {},
   "outputs": [
    {
     "name": "stdout",
     "output_type": "stream",
     "text": [
      "Index(['class', 'cap-shape', 'cap-surface', 'cap-color', 'ruises', 'odor',\n",
      "       'gill-attachment', 'gill-spacing', 'gill-size', 'gill-color',\n",
      "       'stalk-shape', 'stalk-root', 'stalk-surface-above-ring',\n",
      "       'stalk-surface-below-ring', 'stalk-color-above-ring',\n",
      "       'stalk-color-below-ring', 'veil-type', 'veil-color', 'ring-number',\n",
      "       'ring-type', 'spore-print-color', 'population', 'habitat'],\n",
      "      dtype='object')\n",
      "Index(['class', 'cap-shape', 'cap-surface', 'cap-color', 'bruises', 'odor',\n",
      "       'gill-attachment', 'gill-spacing', 'gill-size', 'gill-color',\n",
      "       'stalk-shape', 'stalk-root', 'stalk-surface-above-ring',\n",
      "       'stalk-surface-below-ring', 'stalk-color-above-ring',\n",
      "       'stalk-color-below-ring', 'veil-type', 'veil-color', 'ring-number',\n",
      "       'ring-type', 'spore-print-color', 'population', 'habitat'],\n",
      "      dtype='object')\n",
      "Index(['class', 'cap-shape', 'cap-surface', 'cap-color', 'ruises', 'odor',\n",
      "       'gill-attachment', 'gill-spacing', 'gill-size', 'gill-color',\n",
      "       'stalk-shape', 'stalk-root', 'stalk-surface-above-ring',\n",
      "       'stalk-surface-below-ring', 'stalk-color-above-ring',\n",
      "       'stalk-color-below-ring', 'veil-type', 'veil-color', 'ring-number',\n",
      "       'ring-type', 'spore-print-color', 'population', 'habitat'],\n",
      "      dtype='object')\n"
     ]
    }
   ],
   "source": [
    "print(df1.columns)\n",
    "print(df2.columns)\n",
    "df2 = df2.rename(columns={'bruises': 'ruises'})\n",
    "print(df2.columns)"
   ]
  },
  {
   "cell_type": "code",
   "execution_count": 26,
   "metadata": {},
   "outputs": [
    {
     "name": "stdout",
     "output_type": "stream",
     "text": [
      "(25986, 23)\n"
     ]
    }
   ],
   "source": [
    "mushrooms=df1\n",
    "print(df1.shape)"
   ]
  },
  {
   "cell_type": "code",
   "execution_count": 27,
   "metadata": {},
   "outputs": [
    {
     "data": {
      "text/plain": [
       "class                          0\n",
       "cap-shape                   3473\n",
       "cap-surface                 3479\n",
       "cap-color                   3459\n",
       "ruises                      3472\n",
       "odor                        3450\n",
       "gill-attachment             3481\n",
       "gill-spacing                3399\n",
       "gill-size                   3492\n",
       "gill-color                  3568\n",
       "stalk-shape                 3474\n",
       "stalk-root                  9584\n",
       "stalk-surface-above-ring    3508\n",
       "stalk-surface-below-ring    3423\n",
       "stalk-color-above-ring      3573\n",
       "stalk-color-below-ring      3433\n",
       "veil-type                   3497\n",
       "veil-color                  3503\n",
       "ring-number                 3489\n",
       "ring-type                   3508\n",
       "spore-print-color           3493\n",
       "population                  3511\n",
       "habitat                     3484\n",
       "dtype: int64"
      ]
     },
     "execution_count": 27,
     "metadata": {},
     "output_type": "execute_result"
    }
   ],
   "source": [
    "mushrooms.replace('?', pd.NA, inplace=True)\n",
    "df2.replace('?', pd.NA, inplace=True)\n",
    "df1.isnull().sum()\n"
   ]
  },
  {
   "cell_type": "code",
   "execution_count": 28,
   "metadata": {},
   "outputs": [
    {
     "data": {
      "text/plain": [
       "class                          0\n",
       "cap-shape                      0\n",
       "cap-surface                    0\n",
       "cap-color                      0\n",
       "ruises                         0\n",
       "odor                           0\n",
       "gill-attachment                0\n",
       "gill-spacing                   0\n",
       "gill-size                      0\n",
       "gill-color                     0\n",
       "stalk-shape                    0\n",
       "stalk-root                  2480\n",
       "stalk-surface-above-ring       0\n",
       "stalk-surface-below-ring       0\n",
       "stalk-color-above-ring         0\n",
       "stalk-color-below-ring         0\n",
       "veil-type                      0\n",
       "veil-color                     0\n",
       "ring-number                    0\n",
       "ring-type                      0\n",
       "spore-print-color              0\n",
       "population                     0\n",
       "habitat                        0\n",
       "dtype: int64"
      ]
     },
     "execution_count": 28,
     "metadata": {},
     "output_type": "execute_result"
    }
   ],
   "source": [
    "df2.isnull().sum()"
   ]
  },
  {
   "cell_type": "code",
   "execution_count": 29,
   "metadata": {},
   "outputs": [
    {
     "data": {
      "text/plain": [
       "stalk-root\n",
       "b    8123\n",
       "e    3555\n",
       "c    2705\n",
       "r    2019\n",
       "Name: count, dtype: int64"
      ]
     },
     "execution_count": 29,
     "metadata": {},
     "output_type": "execute_result"
    }
   ],
   "source": [
    "mushrooms['stalk-root'].value_counts()"
   ]
  },
  {
   "cell_type": "code",
   "execution_count": 31,
   "metadata": {},
   "outputs": [
    {
     "name": "stdout",
     "output_type": "stream",
     "text": [
      "  class cap-shape cap-surface cap-color ruises odor gill-attachment  \\\n",
      "0     e         x           f         n      f    n               f   \n",
      "1     p         x           y         g      t    f               f   \n",
      "2     e         b           y         n      t    n               f   \n",
      "3     e         x           g         g      t    n               f   \n",
      "4     e         x           f         n      t    n               a   \n",
      "\n",
      "  gill-spacing gill-size gill-color  ... stalk-surface-below-ring  \\\n",
      "0            w         n          b  ...                        y   \n",
      "1            c         b          k  ...                        s   \n",
      "2            c         b          n  ...                        s   \n",
      "3            w         b          n  ...                        s   \n",
      "4            w         n          n  ...                        k   \n",
      "\n",
      "  stalk-color-above-ring stalk-color-below-ring veil-type veil-color  \\\n",
      "0                      w                      p         p          n   \n",
      "1                      n                      c         p          w   \n",
      "2                      p                      w         p          w   \n",
      "3                      p                      w         p          w   \n",
      "4                      w                      w         p          w   \n",
      "\n",
      "  ring-number ring-type spore-print-color population habitat  \n",
      "0           o         p                 w          v       d  \n",
      "1           n         e                 w          y       g  \n",
      "2           o         p                 b          y       w  \n",
      "3           n         n                 n          v       d  \n",
      "4           o         l                 w          v       d  \n",
      "\n",
      "[5 rows x 23 columns]\n"
     ]
    }
   ],
   "source": [
    "# 利用众数填充缺失值\n",
    "# mushrooms = mushrooms.fillna(mushrooms.mode().iloc[0])\n",
    "# print(mushrooms.shape)\n",
    "\n",
    "mode_class_0 = mushrooms[mushrooms['class'] == 'p'].mode().iloc[0]\n",
    "mushrooms.loc[mushrooms['class'] == 'p'] = mushrooms.loc[mushrooms['class'] == 'p'].fillna(mode_class_0)\n",
    "\n",
    "# 计算 class 值为 '1' 的众数\n",
    "\n",
    "mode_class_1 = mushrooms[mushrooms['class'] == 'e'].mode().iloc[0]\n",
    "mushrooms.loc[mushrooms['class'] == 'e'] = mushrooms.loc[mushrooms['class'] == 'e'].fillna(mode_class_1)\n",
    "\n",
    "# 显示填充后的数据集\n",
    "print(mushrooms.head())\n"
   ]
  },
  {
   "cell_type": "code",
   "execution_count": 33,
   "metadata": {},
   "outputs": [
    {
     "name": "stdout",
     "output_type": "stream",
     "text": [
      "  class cap-shape cap-surface cap-color ruises odor gill-attachment  \\\n",
      "0     e         x           f         n      f    n               f   \n",
      "1     p         x           y         g      t    f               f   \n",
      "2     e         b           y         n      t    n               f   \n",
      "3     e         x           g         g      t    n               f   \n",
      "4     e         x           f         n      t    n               a   \n",
      "\n",
      "  gill-spacing gill-size gill-color  ... stalk-surface-below-ring  \\\n",
      "0            w         n          b  ...                        y   \n",
      "1            c         b          k  ...                        s   \n",
      "2            c         b          n  ...                        s   \n",
      "3            w         b          n  ...                        s   \n",
      "4            w         n          n  ...                        k   \n",
      "\n",
      "  stalk-color-above-ring stalk-color-below-ring veil-type veil-color  \\\n",
      "0                      w                      p         p          n   \n",
      "1                      n                      c         p          w   \n",
      "2                      p                      w         p          w   \n",
      "3                      p                      w         p          w   \n",
      "4                      w                      w         p          w   \n",
      "\n",
      "  ring-number ring-type spore-print-color population habitat  \n",
      "0           o         p                 w          v       d  \n",
      "1           n         e                 w          y       g  \n",
      "2           o         p                 b          y       w  \n",
      "3           n         n                 n          v       d  \n",
      "4           o         l                 w          v       d  \n",
      "\n",
      "[5 rows x 23 columns]\n"
     ]
    }
   ],
   "source": [
    "\n",
    "#df2也要填充\n",
    "mode_class_0 = df2[df2['class'] == 'p'].mode().iloc[0]\n",
    "df2.loc[df2['class'] == 'p'] = df2.loc[df2['class'] == 'p'].fillna(mode_class_0)\n",
    "\n",
    "# 计算 class 值为 '1' 的众数\n",
    "\n",
    "mode_class_1 = df2[df2['class'] == 'e'].mode().iloc[0]\n",
    "df2.loc[df2['class'] == 'e'] = df2.loc[df2['class'] == 'e'].fillna(mode_class_1)\n",
    "\n",
    "# 显示填充后的数据集\n",
    "print(mushrooms.head())\n"
   ]
  },
  {
   "cell_type": "code",
   "execution_count": 34,
   "metadata": {},
   "outputs": [
    {
     "name": "stdout",
     "output_type": "stream",
     "text": [
      "(25986, 22)\n",
      "(25986, 116)\n",
      "(8124, 22)\n",
      "(8124, 116)\n"
     ]
    }
   ],
   "source": [
    "\n",
    "from sklearn.preprocessing import OneHotEncoder\n",
    "from sklearn.preprocessing import LabelEncoder\n",
    "\n",
    "labelencoder=LabelEncoder()\n",
    "onehotencoder = OneHotEncoder()\n",
    "\n",
    "for col in df2.columns:\n",
    "    df2[col] = labelencoder.fit_transform(df2[col])\n",
    "    \n",
    "for col in mushrooms.columns:\n",
    "    mushrooms[col] = labelencoder.fit_transform(mushrooms[col])\n",
    "    \n",
    "X = mushrooms.drop('class', axis=1)\n",
    "print(X.shape)\n",
    "y = mushrooms['class']\n",
    "X = onehotencoder.fit_transform(X).toarray()\n",
    "print(X.shape)\n",
    "\n",
    "X_add = df2.drop('class', axis=1)\n",
    "print(X_add.shape)\n",
    "y_add = df2['class']\n",
    "X_add = onehotencoder.fit_transform(X_add).toarray()\n",
    "print(X_add.shape)"
   ]
  },
  {
   "cell_type": "code",
   "execution_count": 45,
   "metadata": {},
   "outputs": [
    {
     "name": "stdout",
     "output_type": "stream",
     "text": [
      "(6499, 116)\n"
     ]
    },
    {
     "data": {
      "text/plain": [
       "['./results/mushroom_svm_add_model.pkl']"
      ]
     },
     "execution_count": 45,
     "metadata": {},
     "output_type": "execute_result"
    }
   ],
   "source": [
    "import pandas as pd\n",
    "import numpy as np\n",
    "from sklearn.model_selection import train_test_split\n",
    "from sklearn.preprocessing import LabelEncoder\n",
    "from sklearn.svm import SVC\n",
    "from sklearn.tree import DecisionTreeClassifier\n",
    "from sklearn.linear_model import LogisticRegression\n",
    "import joblib\n",
    "\n",
    "# 将数据集拆分为训练集和测试集，按照8:2划分。\n",
    "X_train, X_test, y_train, y_test = train_test_split(X, y, test_size=0.2, random_state=42)\n",
    "\n",
    "X_train = np.vstack([X_train, X_add])\n",
    "y_train = np.hstack([y_train, y_add])\n",
    "print(X_train.shape)\n",
    "# 创建 SVM 模型并进行训练\n",
    "svm = SVC()\n",
    "svm.fit(X_train, y_train)\n",
    "\n",
    "joblib.dump(svm, './results/mushroom_svm_add_model.pkl')"
   ]
  },
  {
   "cell_type": "code",
   "execution_count": 46,
   "metadata": {},
   "outputs": [
    {
     "name": "stdout",
     "output_type": "stream",
     "text": [
      "Accuracy: 1.0\n",
      "Precision: 1.0\n",
      "Recall: 1.0\n",
      "F1: 1.0\n",
      "Confusion matrix:\n",
      " [[843   0]\n",
      " [  0 782]]\n"
     ]
    }
   ],
   "source": [
    "from sklearn.metrics import accuracy_score\n",
    "from sklearn.metrics import confusion_matrix\n",
    "from sklearn.metrics import f1_score\n",
    "from sklearn.metrics import precision_score\n",
    "from sklearn.metrics import recall_score\n",
    "\n",
    "\n",
    "path = './results/mushroom_svm_add_model.pkl'\n",
    "model = joblib.load(path)\n",
    "# 预测并评估模型\n",
    "y_pred = model.predict(X_test)\n",
    "accuracy = accuracy_score(y_test, y_pred)\n",
    "precision = precision_score(y_test, y_pred)\n",
    "recall = recall_score(y_test, y_pred)\n",
    "f1 = f1_score(y_test, y_pred)\n",
    "confusion = confusion_matrix(y_test, y_pred)\n",
    "print(\"Accuracy:\", accuracy)\n",
    "print(\"Precision:\", precision)\n",
    "print(\"Recall:\", recall)\n",
    "print(\"F1:\", f1)\n",
    "print(\"Confusion matrix:\\n\", confusion)"
   ]
  },
  {
   "cell_type": "code",
   "execution_count": null,
   "metadata": {},
   "outputs": [],
   "source": [
    "\n",
    "accuracy = accuracy_score(y_test, y_pred)\n",
    "precision = precision_score(y_test, y_pred)\n",
    "recall = recall_score(y_test, y_pred)\n",
    "f1 = f1_score(y_test, y_pred)\n",
    "confusion = confusion_matrix(y_test, y_pred)\n",
    "print(\"Accuracy:\", accuracy)\n",
    "print(\"Precision:\", precision)\n",
    "print(\"Recall:\", recall)\n",
    "print(\"F1:\", f1)\n",
    "print(\"Confusion matrix:\\n\", confusion)"
   ]
  }
 ],
 "metadata": {
  "kernelspec": {
   "display_name": "hands-on-ml",
   "language": "python",
   "name": "python3"
  },
  "language_info": {
   "codemirror_mode": {
    "name": "ipython",
    "version": 3
   },
   "file_extension": ".py",
   "mimetype": "text/x-python",
   "name": "python",
   "nbconvert_exporter": "python",
   "pygments_lexer": "ipython3",
   "version": "3.8.18"
  }
 },
 "nbformat": 4,
 "nbformat_minor": 2
}
